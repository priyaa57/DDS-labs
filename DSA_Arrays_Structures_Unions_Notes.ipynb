{
 "cells": [
  {
   "cell_type": "markdown",
   "id": "d913e148",
   "metadata": {},
   "source": [
    "# 📘 Arrays, Structures, Unions, and Self-Referential Structures - DSA Notes"
   ]
  },
  {
   "cell_type": "markdown",
   "id": "c414e219",
   "metadata": {},
   "source": [
    "## 🔶 1. Arrays\n",
    "An **array** is a collection of elements of the same data type stored in **contiguous memory locations**.\n",
    "\n",
    "### ✅ Declaration:\n",
    "```c\n",
    "int arr[10];\n",
    "float marks[5];\n",
    "```\n",
    "\n",
    "### ✅ Characteristics:\n",
    "- Static in size\n",
    "- Fast access via index\n",
    "- Memory-efficient for fixed-size data\n",
    "- 0-based indexing\n",
    "\n",
    "### ✅ Types:\n",
    "- **1D Array**: `int a[5];`\n",
    "- **2D Array (Matrix)**: `int b[3][3];`\n",
    "- **Multidimensional Array**: `int c[2][3][4];`\n",
    "\n",
    "### ✅ Common Operations:\n",
    "- Traversal\n",
    "- Insertion\n",
    "- Deletion\n",
    "- Searching (Linear/Binary)\n",
    "- Sorting (Bubble, Selection, Insertion)"
   ]
  },
  {
   "cell_type": "markdown",
   "id": "11c394bf",
   "metadata": {},
   "source": [
    "## 🔶 2. Structures (`struct`)\n",
    "A **structure** is a user-defined data type that allows combining data items of **different types**.\n",
    "\n",
    "### ✅ Syntax:\n",
    "```c\n",
    "struct Student {\n",
    "    int roll;\n",
    "    char name[50];\n",
    "    float marks;\n",
    "};\n",
    "```\n",
    "\n",
    "### ✅ Usage:\n",
    "```c\n",
    "struct Student s1;\n",
    "s1.roll = 1;\n",
    "strcpy(s1.name, \"Ram\");\n",
    "s1.marks = 89.5;\n",
    "```\n",
    "\n",
    "### ✅ Features:\n",
    "- Used to group different data types\n",
    "- Helps in modeling real-world entities\n",
    "- Memory allocated in sequence (non-shared)"
   ]
  },
  {
   "cell_type": "markdown",
   "id": "66363366",
   "metadata": {},
   "source": [
    "## 🔶 3. Unions\n",
    "A **union** is similar to a structure, but all members **share the same memory location**.\n",
    "\n",
    "### ✅ Syntax:\n",
    "```c\n",
    "union Data {\n",
    "    int i;\n",
    "    float f;\n",
    "    char str[20];\n",
    "};\n",
    "```\n",
    "\n",
    "### ✅ Example:\n",
    "```c\n",
    "union Data d;\n",
    "d.i = 10;\n",
    "printf(\"%d\", d.i);\n",
    "```\n",
    "\n",
    "### ✅ Features:\n",
    "- Only **one member** can hold a value at a time\n",
    "- Memory size = size of largest member\n",
    "- Saves memory when variables are not used simultaneously"
   ]
  },
  {
   "cell_type": "markdown",
   "id": "77d05d6b",
   "metadata": {},
   "source": [
    "## 🔶 4. Self-Referential Structures\n",
    "A **self-referential structure** includes a pointer to the **same type** as itself.\n",
    "\n",
    "### ✅ Used in:\n",
    "- Linked Lists\n",
    "- Trees\n",
    "- Graphs\n",
    "\n",
    "### ✅ Syntax:\n",
    "```c\n",
    "struct Node {\n",
    "    int data;\n",
    "    struct Node *next;\n",
    "};\n",
    "```\n",
    "\n",
    "### ✅ Use Case:\n",
    "```c\n",
    "struct Node *head = NULL;\n",
    "head = (struct Node*) malloc(sizeof(struct Node));\n",
    "head->data = 10;\n",
    "head->next = NULL;\n",
    "```\n",
    "\n",
    "### ✅ Advantages:\n",
    "- Essential for dynamic data structures\n",
    "- Supports recursion and chaining of data"
   ]
  },
  {
   "cell_type": "markdown",
   "id": "1d3ee50a",
   "metadata": {},
   "source": [
    "## 📌 Summary Table\n",
    "| Feature                     | Array     | Structure       | Union           | Self-Referential Structure |\n",
    "|----------------------------|-----------|------------------|------------------|-----------------------------|\n",
    "| Data Type                  | Same      | Different         | Different         | Can point to same type      |\n",
    "| Memory Allocation          | Contiguous| Sequential        | Shared            | Dynamic via pointers        |\n",
    "| Access Time                | Fast      | Medium            | Medium            | Depends on structure        |\n",
    "| Usage                      | Indexed   | Grouped data      | Efficient memory  | Dynamic data structures     |"
   ]
  },
  {
   "cell_type": "markdown",
   "id": "c31a78bb",
   "metadata": {},
   "source": [
    "## 📚 Applications in DSA\n",
    "- **Arrays**: Sorting, Searching, Matrix operations\n",
    "- **Structures**: Records like employee, student, etc.\n",
    "- **Unions**: Optimized memory for embedded systems\n",
    "- **Self-Referential Structures**: Linked Lists, Trees, Stacks, Queues"
   ]
  }
 ],
 "metadata": {},
 "nbformat": 4,
 "nbformat_minor": 5
}